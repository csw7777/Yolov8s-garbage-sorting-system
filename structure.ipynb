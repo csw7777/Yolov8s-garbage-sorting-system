{
 "cells": [
  {
   "cell_type": "code",
   "execution_count": 5,
   "metadata": {},
   "outputs": [
    {
     "data": {
      "text/plain": [
       "'system_architecture.png'"
      ]
     },
     "execution_count": 5,
     "metadata": {},
     "output_type": "execute_result"
    }
   ],
   "source": [
    "from graphviz import Digraph\n",
    "\n",
    "# 创建一个有向图\n",
    "dot = Digraph(comment='System Architecture', format='png')\n",
    "\n",
    "# 添加节点\n",
    "dot.node('UI', 'User Interface (UI)')\n",
    "dot.node('FM', 'File and Media Processing Module')\n",
    "dot.node('IM', 'Image Recognition Module')\n",
    "dot.node('MT', 'Multithreading Processing Module')\n",
    "dot.node('DS', 'Data Storage and Export Module')\n",
    "dot.node('CM', 'Configuration and Resource Management Module')\n",
    "dot.node('Y8', 'YOLOv8s Model (yolov8s.pt)')  # 添加 YOLOv8 模型本体节点\n",
    "\n",
    "# 添加边，表示模块之间的关系\n",
    "dot.edge('UI', 'FM')  # 用户界面到文件和媒体处理模块\n",
    "dot.edge('FM', 'IM')  # 文件和媒体处理模块到图像识别模块\n",
    "dot.edge('IM', 'Y8')  # 图像识别模块使用 YOLOv8 模型本体\n",
    "dot.edge('Y8', 'MT')  # YOLOv8 模型本体与多线程处理模块相关联\n",
    "dot.edge('MT', 'DS')  # 多线程处理模块到数据存储和导出模块\n",
    "dot.edge('DS', 'CM')  # 数据存储和导出模块到配置和资源管理模块\n",
    "dot.edge('CM', 'UI')  # 配置和资源管理模块到用户界面\n",
    "\n",
    "# 调整节点位置和样式\n",
    "dot.node_attr['shape'] = 'rectangle'  # 所有节点都是矩形\n",
    "dot.edge_attr['dir'] = 'back'  # 箭头方向\n",
    "\n",
    "# 生成图形\n",
    "dot.render('system_architecture', view=True)  # 设置DPI为300"
   ]
  },
  {
   "cell_type": "code",
   "execution_count": 4,
   "metadata": {},
   "outputs": [
    {
     "data": {
      "text/plain": [
       "'system_architecture.png'"
      ]
     },
     "execution_count": 4,
     "metadata": {},
     "output_type": "execute_result"
    }
   ],
   "source": [
    "from graphviz import Digraph\n",
    "\n",
    "# Create a directed graph\n",
    "dot = Digraph(comment='System Architecture', format='png')\n",
    "\n",
    "# Add nodes and edges\n",
    "dot.node('UI', 'User Interface (UI)')\n",
    "dot.node('FM', 'File and Media Processing Module')\n",
    "dot.node('IM', 'Image Recognition Module')\n",
    "dot.node('MT', 'Multithreading Processing Module')\n",
    "dot.node('DS', 'Data Storage and Export Module')\n",
    "dot.node('CM', 'Configuration and Resource Management Module')\n",
    "dot.node('Y8', 'YOLOv8s Model (yolov8s.pt)')\n",
    "\n",
    "# Add edges between nodes\n",
    "dot.edge('UI', 'FM')\n",
    "dot.edge('FM', 'IM')\n",
    "dot.edge('IM', 'Y8')\n",
    "dot.edge('Y8', 'MT')\n",
    "dot.edge('MT', 'DS')\n",
    "dot.edge('DS', 'CM')\n",
    "dot.edge('CM', 'UI')\n",
    "\n",
    "# Set node and edge attributes if needed\n",
    "dot.node_attr['shape'] = 'rectangle'\n",
    "dot.edge_attr['dir'] = 'forward'  # Use 'forward' instead of 'back' for standard arrow direction\n",
    "\n",
    "# Render the graph with a higher DPI (e.g., 300)\n",
    "dot.render('system_architecture', view=True, format='png', engine='neato', cleanup=True)"
   ]
  }
 ],
 "metadata": {
  "kernelspec": {
   "display_name": "Python 3",
   "language": "python",
   "name": "python3"
  },
  "language_info": {
   "codemirror_mode": {
    "name": "ipython",
    "version": 3
   },
   "file_extension": ".py",
   "mimetype": "text/x-python",
   "name": "python",
   "nbconvert_exporter": "python",
   "pygments_lexer": "ipython3",
   "version": "3.8.5"
  },
  "toc": {
   "base_numbering": 1,
   "nav_menu": {},
   "number_sections": true,
   "sideBar": true,
   "skip_h1_title": false,
   "title_cell": "Table of Contents",
   "title_sidebar": "Contents",
   "toc_cell": false,
   "toc_position": {},
   "toc_section_display": true,
   "toc_window_display": false
  }
 },
 "nbformat": 4,
 "nbformat_minor": 4
}
